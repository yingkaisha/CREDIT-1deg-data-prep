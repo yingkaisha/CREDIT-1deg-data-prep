{
 "cells": [
  {
   "cell_type": "markdown",
   "id": "304505aa-820b-41ea-af52-57a62b6c8655",
   "metadata": {},
   "source": [
    "# Generate qsub scripts to compute mean and std per variable"
   ]
  },
  {
   "cell_type": "code",
   "execution_count": 1,
   "id": "a4e06d0d-df0e-4353-9fc7-dcab383a8d70",
   "metadata": {},
   "outputs": [],
   "source": [
    "import os\n",
    "import sys\n",
    "import yaml\n",
    "import numpy as np\n",
    "import xarray as xr"
   ]
  },
  {
   "cell_type": "code",
   "execution_count": 2,
   "id": "94494a11-1fef-419e-9dfe-4307e9e90634",
   "metadata": {},
   "outputs": [],
   "source": [
    "sys.path.insert(0, os.path.realpath('../libs/'))\n",
    "import preprocess_utils as pu"
   ]
  },
  {
   "cell_type": "markdown",
   "id": "37ecc2bd-f660-4717-8394-5718d1ce51f6",
   "metadata": {},
   "source": [
    "## 1 deg grid"
   ]
  },
  {
   "cell_type": "code",
   "execution_count": 7,
   "id": "114b8b39-a02d-4382-8062-55591204e374",
   "metadata": {},
   "outputs": [],
   "source": [
    "config_name = os.path.realpath('data_config_6h.yml')\n",
    "\n",
    "with open(config_name, 'r') as stream:\n",
    "    conf = yaml.safe_load(stream)"
   ]
  },
  {
   "cell_type": "code",
   "execution_count": 8,
   "id": "f7295873-ba86-4211-aa08-4919cb72e148",
   "metadata": {},
   "outputs": [],
   "source": [
    "varnames = list(conf['zscore'].keys())\n",
    "varnames = varnames[:-3] # remove save_loc and others"
   ]
  },
  {
   "cell_type": "code",
   "execution_count": 9,
   "id": "4d41078f-126c-4f05-8c48-0c6d16a5cc3f",
   "metadata": {},
   "outputs": [],
   "source": [
    "varname_upper = ['U', 'V', 'T', 'Q']\n",
    "varname_surf = list(set(varnames) - set(varname_upper))"
   ]
  },
  {
   "cell_type": "code",
   "execution_count": 10,
   "id": "45fa9c89-d367-4f63-b22f-43dc2c25f503",
   "metadata": {},
   "outputs": [],
   "source": [
    "N_level = 16"
   ]
  },
  {
   "cell_type": "code",
   "execution_count": 11,
   "id": "ee122092-b5c0-46eb-ae95-0f58d31c23f5",
   "metadata": {},
   "outputs": [],
   "source": [
    "for i_var, varname in enumerate(varname_surf):\n",
    "    \n",
    "    f = open('{}zscore_6h_{}.sh'.format(conf['qsub']['qsub_loc'], varname), 'w') \n",
    "    \n",
    "    heads = '''#!/bin/bash -l\n",
    "\n",
    "#PBS -N {}\n",
    "#PBS -A NAML0001\n",
    "#PBS -l walltime=23:59:59\n",
    "#PBS -l select=1:ncpus=1\n",
    "#PBS -q casper\n",
    "#PBS -o zscore_{}.log\n",
    "#PBS -e zscore_{}.err\n",
    "\n",
    "conda activate credit\n",
    "cd {}\n",
    "python zscore_var_6h.py {} {}\n",
    "'''.format(varname, varname, varname, \n",
    "           conf['qsub']['scripts_loc'], \n",
    "           varname,\n",
    "           'None')\n",
    "    \n",
    "    print(heads, file=f)    \n",
    "    f.close()\n",
    "\n",
    "f = open('{}preprocess_surf_zscore_6h.sh'.format(conf['qsub']['qsub_loc']), 'w')\n",
    "\n",
    "for i_var, varname in enumerate(varname_surf):\n",
    "    print('qsub zscore_6h_{}.sh'.format(varname), file=f)\n",
    "    \n",
    "f.close()"
   ]
  },
  {
   "cell_type": "code",
   "execution_count": 12,
   "id": "064774b3-3abf-4ab1-8d38-0dcc57ede01f",
   "metadata": {},
   "outputs": [],
   "source": [
    "for i_var, varname in enumerate(varname_upper):\n",
    "    for i_level in range(N_level):\n",
    "        \n",
    "        f = open('{}zscore_6h_{}_level{}.sh'.format(conf['qsub']['qsub_loc'], varname, i_level), 'w') \n",
    "        \n",
    "        heads = '''#!/bin/bash -l\n",
    "    \n",
    "#PBS -N {}\n",
    "#PBS -A NAML0001\n",
    "#PBS -l walltime=23:59:59\n",
    "#PBS -l select=1:ncpus=1\n",
    "#PBS -q casper\n",
    "#PBS -o zscore_{}.log\n",
    "#PBS -e zscore_{}.err\n",
    "\n",
    "conda activate credit\n",
    "cd {}\n",
    "python zscore_var_6h.py {} {}\n",
    "'''.format(varname, varname, varname, \n",
    "           conf['qsub']['scripts_loc'], \n",
    "           varname,\n",
    "           i_level)\n",
    "        \n",
    "        print(heads, file=f)    \n",
    "        f.close()\n",
    "\n",
    "f = open('{}preprocess_upper_zscore_6h.sh'.format(conf['qsub']['qsub_loc']), 'w')\n",
    "\n",
    "for i_var, varname in enumerate(varname_upper):\n",
    "    for i_level in range(N_level):\n",
    "        print('qsub zscore_6h_{}_level{}.sh'.format(varname, i_level), file=f)\n",
    "    \n",
    "f.close()"
   ]
  },
  {
   "cell_type": "code",
   "execution_count": 13,
   "id": "f94b1c92-73b1-4655-90b7-3adb367b7452",
   "metadata": {},
   "outputs": [],
   "source": [
    "config_name = os.path.realpath('data_config_6h.yml')\n",
    "\n",
    "with open(config_name, 'r') as stream:\n",
    "    conf = yaml.safe_load(stream)"
   ]
  },
  {
   "cell_type": "code",
   "execution_count": 14,
   "id": "35237e43-85cd-4b00-a011-99e52caf5fa2",
   "metadata": {},
   "outputs": [],
   "source": [
    "varnames = list(conf['residual'].keys())\n",
    "varnames = varnames[:-5] # remove save_loc and others\n",
    "varname_upper = ['U', 'V', 'T', 'Q']\n",
    "varname_surf = list(set(varnames) - set(varname_upper))\n",
    "N_level = 16"
   ]
  },
  {
   "cell_type": "code",
   "execution_count": 17,
   "id": "42e4ab6b-d734-4bc5-b8cd-4c5576d056cd",
   "metadata": {},
   "outputs": [],
   "source": [
    "for i_var, varname in enumerate(varname_surf):\n",
    "    \n",
    "    f = open('{}residual_6h_{}.sh'.format(conf['qsub']['qsub_loc'], varname), 'w') \n",
    "    \n",
    "    heads = '''#!/bin/bash -l\n",
    "\n",
    "#PBS -N {}\n",
    "#PBS -A NAML0001\n",
    "#PBS -l walltime=23:59:59\n",
    "#PBS -l select=1:ncpus=1\n",
    "#PBS -q casper\n",
    "#PBS -o residual_{}.log\n",
    "#PBS -e residual_{}.err\n",
    "\n",
    "conda activate credit\n",
    "cd {}\n",
    "python residual_6h.py {} {}\n",
    "'''.format(varname, varname, varname, \n",
    "           conf['qsub']['scripts_loc'], \n",
    "           varname,\n",
    "           'None')\n",
    "    \n",
    "    print(heads, file=f)    \n",
    "    f.close()\n",
    "\n",
    "f = open('{}preprocess_surf_residual_6h.sh'.format(conf['qsub']['qsub_loc']), 'w')\n",
    "\n",
    "for i_var, varname in enumerate(varname_surf):\n",
    "    print('qsub residual_6h_{}.sh'.format(varname), file=f)\n",
    "    \n",
    "f.close()"
   ]
  },
  {
   "cell_type": "code",
   "execution_count": 18,
   "id": "9072b4fb-5b8a-42ef-b2f6-67b3131489ed",
   "metadata": {},
   "outputs": [],
   "source": [
    "for i_var, varname in enumerate(varname_upper):\n",
    "    for i_level in range(N_level):\n",
    "        \n",
    "        f = open('{}residual_6h_{}_level{}.sh'.format(conf['qsub']['qsub_loc'], varname, i_level), 'w') \n",
    "        \n",
    "        heads = '''#!/bin/bash -l\n",
    "    \n",
    "#PBS -N {}\n",
    "#PBS -A NAML0001\n",
    "#PBS -l walltime=23:59:59\n",
    "#PBS -l select=1:ncpus=1\n",
    "#PBS -q casper\n",
    "#PBS -o residual_{}.log\n",
    "#PBS -e residual_{}.err\n",
    "\n",
    "conda activate credit\n",
    "cd {}\n",
    "python residual_6h.py {} {}\n",
    "'''.format(varname, varname, varname, \n",
    "           conf['qsub']['scripts_loc'], \n",
    "           varname,\n",
    "           i_level)\n",
    "        \n",
    "        print(heads, file=f)    \n",
    "        f.close()\n",
    "\n",
    "f = open('{}preprocess_upper_residual_6h.sh'.format(conf['qsub']['qsub_loc']), 'w')\n",
    "\n",
    "for i_var, varname in enumerate(varname_upper):\n",
    "    for i_level in range(N_level):\n",
    "        print('qsub residual_6h_{}_level{}.sh'.format(varname, i_level), file=f)\n",
    "    \n",
    "f.close()"
   ]
  },
  {
   "cell_type": "markdown",
   "id": "7e05d28f-df4f-4317-b1ad-6a70260bae52",
   "metadata": {},
   "source": [
    "## CESM grid"
   ]
  },
  {
   "cell_type": "code",
   "execution_count": 4,
   "id": "a9b3f211-4622-4f60-a5fa-65687da8bdc7",
   "metadata": {},
   "outputs": [],
   "source": [
    "config_name = os.path.realpath('data_config_cesm_6h.yml')\n",
    "\n",
    "with open(config_name, 'r') as stream:\n",
    "    conf = yaml.safe_load(stream)"
   ]
  },
  {
   "cell_type": "code",
   "execution_count": 5,
   "id": "8d239b22-ac47-4be4-81a8-5374d3710bfa",
   "metadata": {},
   "outputs": [],
   "source": [
    "varnames = list(conf['zscore'].keys())\n",
    "varnames = varnames[:-3] # remove save_loc and others"
   ]
  },
  {
   "cell_type": "code",
   "execution_count": 6,
   "id": "5314ea40-6280-4c79-a039-6a2090e41dd4",
   "metadata": {},
   "outputs": [],
   "source": [
    "varname_upper = ['U', 'V', 'T', 'Q']\n",
    "varname_surf = list(set(varnames) - set(varname_upper))"
   ]
  },
  {
   "cell_type": "code",
   "execution_count": 7,
   "id": "c3a96bf8-99d6-4226-83e2-5cb7c3cd3cf1",
   "metadata": {},
   "outputs": [],
   "source": [
    "N_level = 16"
   ]
  },
  {
   "cell_type": "code",
   "execution_count": 9,
   "id": "553d038c-69bd-4b3d-81c9-543170121976",
   "metadata": {},
   "outputs": [],
   "source": [
    "for i_var, varname in enumerate(varname_surf):\n",
    "    \n",
    "    f = open('{}zscore_6h_{}.sh'.format(conf['qsub']['qsub_loc'], varname), 'w') \n",
    "    \n",
    "    heads = '''#!/bin/bash -l\n",
    "\n",
    "#PBS -N {}\n",
    "#PBS -A NAML0001\n",
    "#PBS -l walltime=23:59:59\n",
    "#PBS -l select=1:ncpus=1\n",
    "#PBS -q casper\n",
    "#PBS -o zscore_{}.log\n",
    "#PBS -e zscore_{}.err\n",
    "\n",
    "conda activate credit\n",
    "cd {}\n",
    "python zscore_var_6h_cesm.py {} {}\n",
    "'''.format(varname, varname, varname, \n",
    "           conf['qsub']['scripts_loc'], \n",
    "           varname,\n",
    "           'None')\n",
    "    \n",
    "    print(heads, file=f)    \n",
    "    f.close()\n",
    "\n",
    "f = open('{}preprocess_surf_zscore_6h.sh'.format(conf['qsub']['qsub_loc']), 'w')\n",
    "\n",
    "for i_var, varname in enumerate(varname_surf):\n",
    "    print('qsub zscore_6h_{}.sh'.format(varname), file=f)\n",
    "    \n",
    "f.close()"
   ]
  },
  {
   "cell_type": "code",
   "execution_count": 10,
   "id": "851f55b1-c3e5-47e4-81a5-7b7d7dfa3caa",
   "metadata": {},
   "outputs": [],
   "source": [
    "for i_var, varname in enumerate(varname_upper):\n",
    "    for i_level in range(N_level):\n",
    "        \n",
    "        f = open('{}zscore_6h_{}_level{}.sh'.format(conf['qsub']['qsub_loc'], varname, i_level), 'w') \n",
    "        \n",
    "        heads = '''#!/bin/bash -l\n",
    "    \n",
    "#PBS -N {}\n",
    "#PBS -A NAML0001\n",
    "#PBS -l walltime=23:59:59\n",
    "#PBS -l select=1:ncpus=1\n",
    "#PBS -q casper\n",
    "#PBS -o zscore_{}.log\n",
    "#PBS -e zscore_{}.err\n",
    "\n",
    "conda activate credit\n",
    "cd {}\n",
    "python zscore_var_6h_cesm.py {} {}\n",
    "'''.format(varname, varname, varname, \n",
    "           conf['qsub']['scripts_loc'], \n",
    "           varname,\n",
    "           i_level)\n",
    "        \n",
    "        print(heads, file=f)    \n",
    "        f.close()\n",
    "\n",
    "f = open('{}preprocess_upper_zscore_6h.sh'.format(conf['qsub']['qsub_loc']), 'w')\n",
    "\n",
    "for i_var, varname in enumerate(varname_upper):\n",
    "    for i_level in range(N_level):\n",
    "        print('qsub zscore_6h_{}_level{}.sh'.format(varname, i_level), file=f)\n",
    "    \n",
    "f.close()"
   ]
  },
  {
   "cell_type": "code",
   "execution_count": 19,
   "id": "3ed1eb5c-fd73-4223-bde4-8a9b0603099e",
   "metadata": {},
   "outputs": [],
   "source": [
    "config_name = os.path.realpath('data_config_cesm_6h.yml')\n",
    "\n",
    "with open(config_name, 'r') as stream:\n",
    "    conf = yaml.safe_load(stream)"
   ]
  },
  {
   "cell_type": "code",
   "execution_count": 20,
   "id": "eb59ead8-63bf-42ff-8ace-95036963712c",
   "metadata": {},
   "outputs": [],
   "source": [
    "varnames = list(conf['residual'].keys())\n",
    "varnames = varnames[:-5] # remove save_loc and others\n",
    "varname_upper = ['U', 'V', 'T', 'Q']\n",
    "varname_surf = list(set(varnames) - set(varname_upper))\n",
    "N_level = 16"
   ]
  },
  {
   "cell_type": "code",
   "execution_count": 21,
   "id": "eeecb211-7a91-49fa-a45a-8f99f3f8c9f6",
   "metadata": {},
   "outputs": [],
   "source": [
    "for i_var, varname in enumerate(varname_surf):\n",
    "    \n",
    "    f = open('{}residual_6h_{}.sh'.format(conf['qsub']['qsub_loc'], varname), 'w') \n",
    "    \n",
    "    heads = '''#!/bin/bash -l\n",
    "\n",
    "#PBS -N {}\n",
    "#PBS -A NAML0001\n",
    "#PBS -l walltime=23:59:59\n",
    "#PBS -l select=1:ncpus=1\n",
    "#PBS -q casper\n",
    "#PBS -o residual_{}.log\n",
    "#PBS -e residual_{}.err\n",
    "\n",
    "conda activate credit\n",
    "cd {}\n",
    "python residual_6h_cesm.py {} {}\n",
    "'''.format(varname, varname, varname, \n",
    "           conf['qsub']['scripts_loc'], \n",
    "           varname,\n",
    "           'None')\n",
    "    \n",
    "    print(heads, file=f)    \n",
    "    f.close()\n",
    "\n",
    "f = open('{}preprocess_surf_residual_6h.sh'.format(conf['qsub']['qsub_loc']), 'w')\n",
    "\n",
    "for i_var, varname in enumerate(varname_surf):\n",
    "    print('qsub residual_6h_{}.sh'.format(varname), file=f)\n",
    "    \n",
    "f.close()"
   ]
  },
  {
   "cell_type": "code",
   "execution_count": 22,
   "id": "16e7cd7b-fb08-44e5-b15f-f3fd22367d61",
   "metadata": {},
   "outputs": [],
   "source": [
    "for i_var, varname in enumerate(varname_upper):\n",
    "    for i_level in range(N_level):\n",
    "        \n",
    "        f = open('{}residual_6h_{}_level{}.sh'.format(conf['qsub']['qsub_loc'], varname, i_level), 'w') \n",
    "        \n",
    "        heads = '''#!/bin/bash -l\n",
    "    \n",
    "#PBS -N {}\n",
    "#PBS -A NAML0001\n",
    "#PBS -l walltime=23:59:59\n",
    "#PBS -l select=1:ncpus=1\n",
    "#PBS -q casper\n",
    "#PBS -o residual_{}.log\n",
    "#PBS -e residual_{}.err\n",
    "\n",
    "conda activate credit\n",
    "cd {}\n",
    "python residual_6h_cesm.py {} {}\n",
    "'''.format(varname, varname, varname, \n",
    "           conf['qsub']['scripts_loc'], \n",
    "           varname,\n",
    "           i_level)\n",
    "        \n",
    "        print(heads, file=f)    \n",
    "        f.close()\n",
    "\n",
    "f = open('{}preprocess_upper_residual_6h.sh'.format(conf['qsub']['qsub_loc']), 'w')\n",
    "\n",
    "for i_var, varname in enumerate(varname_upper):\n",
    "    for i_level in range(N_level):\n",
    "        print('qsub residual_6h_{}_level{}.sh'.format(varname, i_level), file=f)\n",
    "    \n",
    "f.close()"
   ]
  },
  {
   "cell_type": "code",
   "execution_count": null,
   "id": "a25bb958-bc13-4fbf-b66d-45c78849f67e",
   "metadata": {},
   "outputs": [],
   "source": []
  },
  {
   "cell_type": "code",
   "execution_count": null,
   "id": "7f782429-d213-4abc-b16d-fe91d3845a9d",
   "metadata": {},
   "outputs": [],
   "source": []
  },
  {
   "cell_type": "code",
   "execution_count": null,
   "id": "e5fcec51-1ee1-41d1-8084-53d7f2ec36f6",
   "metadata": {},
   "outputs": [],
   "source": []
  }
 ],
 "metadata": {
  "kernelspec": {
   "display_name": "Python 3 (ipykernel)",
   "language": "python",
   "name": "python3"
  },
  "language_info": {
   "codemirror_mode": {
    "name": "ipython",
    "version": 3
   },
   "file_extension": ".py",
   "mimetype": "text/x-python",
   "name": "python",
   "nbconvert_exporter": "python",
   "pygments_lexer": "ipython3",
   "version": "3.11.9"
  }
 },
 "nbformat": 4,
 "nbformat_minor": 5
}

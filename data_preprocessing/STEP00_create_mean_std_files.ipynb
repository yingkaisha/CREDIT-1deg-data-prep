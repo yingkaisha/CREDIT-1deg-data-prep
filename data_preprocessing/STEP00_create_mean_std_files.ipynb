{
 "cells": [
  {
   "cell_type": "markdown",
   "id": "d779c3f3-dd5e-4194-8925-95e37d9660ec",
   "metadata": {},
   "source": [
    "# Create z-score files for CREDIT"
   ]
  },
  {
   "cell_type": "code",
   "execution_count": 1,
   "id": "3e399085-3c08-46c9-8e07-fa7e3e0b63c7",
   "metadata": {},
   "outputs": [],
   "source": [
    "import os\n",
    "import yaml\n",
    "import numpy as np\n",
    "import xarray as xr"
   ]
  },
  {
   "cell_type": "markdown",
   "id": "2018bd3e-64bd-4953-a58a-06a0cb311c34",
   "metadata": {},
   "source": [
    "## File creation"
   ]
  },
  {
   "cell_type": "markdown",
   "id": "e21cdcff-6ae7-4a36-a68e-9b304dea5a52",
   "metadata": {},
   "source": [
    "### 6 hourly mean std files"
   ]
  },
  {
   "cell_type": "code",
   "execution_count": 2,
   "id": "94a10bbc-3f2f-4fb6-ab17-aa44c75a69d2",
   "metadata": {},
   "outputs": [],
   "source": [
    "# get variable information from data_preprocessing/config\n",
    "config_name = os.path.realpath('data_config_6h.yml')\n",
    "\n",
    "with open(config_name, 'r') as stream:\n",
    "    conf = yaml.safe_load(stream)"
   ]
  },
  {
   "cell_type": "code",
   "execution_count": 3,
   "id": "0684ddd2-2532-4da3-968c-f9d9ca01ff5a",
   "metadata": {},
   "outputs": [],
   "source": [
    "N_levels = 16\n",
    "base_dir = '/glade/derecho/scratch/ksha/CREDIT_data/ERA5_mlevel_1deg_stage1/'"
   ]
  },
  {
   "cell_type": "code",
   "execution_count": 4,
   "id": "4bd94aa0-ce0d-46aa-827f-b748f7bec225",
   "metadata": {},
   "outputs": [],
   "source": [
    "# get variable names\n",
    "varnames = list(conf['zscore'].keys())\n",
    "varnames = varnames[:-3] # remove save_loc and others\n",
    "\n",
    "varname_surf = list(set(varnames) - set(['U', 'V', 'T', 'Q']))\n",
    "varname_upper = ['U', 'V', 'T', 'Q']\n",
    "\n",
    "# collect computed mean and variance values\n",
    "# See \"qsub_STEP01_compute_mean_std.ipynb\"\n",
    "MEAN_values = {}\n",
    "STD_values = {}\n",
    "\n",
    "for varname in varname_surf:\n",
    "    save_name = conf['zscore']['save_loc'] + '{}_mean_std_{}.npy'.format(conf['zscore']['prefix'], varname)\n",
    "    mean_std = np.load(save_name)\n",
    "    MEAN_values[varname] = mean_std[0]\n",
    "    STD_values[varname] = mean_std[1]\n",
    "\n",
    "for varname in varname_upper:\n",
    "\n",
    "    # -------------------------------------------- #\n",
    "    # allocate all levels\n",
    "    mean_std_all_levels = np.empty((2, N_levels))\n",
    "    mean_std_all_levels[...] = np.nan\n",
    "    \n",
    "    for i_level in range(N_levels):\n",
    "        save_name = conf['zscore']['save_loc'] + '{}_level{}_mean_std_{}.npy'.format(\n",
    "            conf['zscore']['prefix'], i_level, varname)\n",
    "        mean_std = np.load(save_name)\n",
    "        mean_std_all_levels[:, i_level] = mean_std\n",
    "\n",
    "    # -------------------------------------------- #\n",
    "    # save\n",
    "    MEAN_values[varname] = np.copy(mean_std_all_levels[0, :])\n",
    "    STD_values[varname] = np.copy(mean_std_all_levels[1, :])"
   ]
  },
  {
   "cell_type": "code",
   "execution_count": 5,
   "id": "3fd9cdd3-eb48-4bdc-b917-dad54924b1d7",
   "metadata": {},
   "outputs": [],
   "source": [
    "ds_example = xr.open_zarr(base_dir+'all_in_one/ERA5_mlevel_1deg_6h_lev16_1979.zarr')"
   ]
  },
  {
   "cell_type": "code",
   "execution_count": 6,
   "id": "e7976bd4-5d6f-4608-aea0-8d8ecffe479d",
   "metadata": {},
   "outputs": [],
   "source": [
    "# ------------------------------------------------------- #\n",
    "# create xr.DataArray for mean\n",
    "\n",
    "# Initialize level coord\n",
    "level = np.array(ds_example['level'])\n",
    "\n",
    "# Initialize dataset\n",
    "ds_mean_6h = xr.Dataset(coords={\"level\": level})\n",
    "\n",
    "for varname, data in MEAN_values.items():\n",
    "    if len(data.shape) == 1:\n",
    "        data_array = xr.DataArray(\n",
    "            data,\n",
    "            dims=[\"level\",],\n",
    "            coords={\"level\": level},\n",
    "            name=varname,\n",
    "        )\n",
    "        ds_mean_6h[varname] = data_array\n",
    "    else:\n",
    "        data_array = xr.DataArray(\n",
    "            data,\n",
    "            name=varname,\n",
    "        )\n",
    "        ds_mean_6h[varname] = data_array"
   ]
  },
  {
   "cell_type": "code",
   "execution_count": 7,
   "id": "702c76a0-e6e4-4bce-ac72-e20160877be6",
   "metadata": {},
   "outputs": [],
   "source": [
    "# ------------------------------------------------------- #\n",
    "# create xr.DataArray for std\n",
    "\n",
    "# use the same level coord as mean\n",
    "ds_std_6h = xr.Dataset(coords={\"level\": level})\n",
    "\n",
    "for varname, data in STD_values.items():\n",
    "    data = np.sqrt(data)\n",
    "    if len(data.shape) == 1:\n",
    "        data_array = xr.DataArray(\n",
    "            data,\n",
    "            dims=[\"level\",],\n",
    "            coords={\"level\": level},\n",
    "            name=varname,\n",
    "        )\n",
    "        ds_std_6h[varname] = data_array\n",
    "    else:\n",
    "        data_array = xr.DataArray(\n",
    "            data,\n",
    "            name=varname,\n",
    "        )\n",
    "        ds_std_6h[varname] = data_array"
   ]
  },
  {
   "cell_type": "code",
   "execution_count": 8,
   "id": "a1e7cd24-8d5c-4440-9008-c4abc1fcc9ac",
   "metadata": {},
   "outputs": [],
   "source": [
    "# ------------------------------------------------------- #\n",
    "# Same to netCDF\n",
    "ds_mean_6h.to_netcdf(base_dir+'mean_std/mean_6h_1979_2018_1deg.nc')\n",
    "ds_std_6h.to_netcdf(base_dir+'mean_std/std_6h_1979_2018_1deg.nc')"
   ]
  },
  {
   "cell_type": "code",
   "execution_count": 9,
   "id": "a8801e96-7dd6-4bc7-a0fb-45a2ce694300",
   "metadata": {},
   "outputs": [],
   "source": [
    "    # mean_path: '/glade/derecho/scratch/ksha/CREDIT_data/mean_6h_1979_2018_16lev_0.25deg.nc'\n",
    "    # # regular z-score version\n",
    "    # # std_path: '/glade/derecho/scratch/ksha/CREDIT_data/std_6h_1979_2018_16lev_0.25deg.nc'\n",
    "    # # residual norm version\n",
    "    # std_path: '/glade/derecho/scratch/ksha/CREDIT_data/std_residual_6h_1979_2018_16lev_0.25deg.nc'"
   ]
  },
  {
   "cell_type": "code",
   "execution_count": 12,
   "id": "39cadef4-26e6-4bce-b08d-faa1642856a5",
   "metadata": {},
   "outputs": [
    {
     "data": {
      "text/plain": [
       "'/glade/derecho/scratch/ksha/CREDIT_data/ERA5_mlevel_1deg_stage1/mean_std/std_6h_1979_2018_1deg.nc'"
      ]
     },
     "execution_count": 12,
     "metadata": {},
     "output_type": "execute_result"
    }
   ],
   "source": [
    "base_dir+'mean_std/std_6h_1979_2018_1deg.nc'"
   ]
  },
  {
   "cell_type": "code",
   "execution_count": 10,
   "id": "4364c620-8b4d-4edf-97b8-82b948711b18",
   "metadata": {},
   "outputs": [
    {
     "name": "stdout",
     "output_type": "stream",
     "text": [
      "=============== Q =================\n",
      "[2.88366821e-07 3.43996775e-07 3.02545878e-07 3.72776741e-07\n",
      " 5.62630432e-07 6.33140064e-06 8.56978283e-05 4.79411907e-04\n",
      " 9.42083743e-04 1.63327822e-03 2.36612487e-03 3.28568142e-03\n",
      " 4.89955869e-03 5.80935251e-03 5.94272198e-03 6.00623108e-03]\n",
      "[2.86539110e-07 3.43501184e-07 3.00897636e-07 3.70370665e-07\n",
      " 5.65687055e-07 6.40576319e-06 8.72308306e-05 4.86562781e-04\n",
      " 9.55834282e-04 1.65400575e-03 2.39454699e-03 3.32212385e-03\n",
      " 4.92020484e-03 5.82008968e-03 5.95355206e-03 6.01718454e-03]\n",
      "=============== Q500 =================\n",
      "0.0010675011022210237\n",
      "0.0010784555247599808\n",
      "=============== SP =================\n",
      "9597.773243269761\n",
      "9564.08828465833\n",
      "=============== T =================\n",
      "[ 8.30371089 12.61047024 10.80722619 10.56573898 12.62041742  8.19765517\n",
      "  9.11070813 13.61353943 14.4098643  14.81314237 15.34843726 15.87551619\n",
      " 17.0509786  19.29923236 20.81507832 21.09224943]\n",
      "[ 8.28246086 12.54296629 10.73224169 10.51179137 12.60151149  8.16516086\n",
      "  9.08780623 13.56959089 14.35413281 14.74749461 15.27688361 15.80104057\n",
      " 16.96383509 19.17538034 20.68054418 20.958301  ]\n",
      "=============== T500 =================\n",
      "13.100036159941702\n",
      "13.06274013468683\n",
      "=============== U =================\n",
      "[40.1117633  25.21290485 19.65990212 14.44563334 13.45606751 16.55052066\n",
      " 17.8198068  14.48332141 12.39289934 10.61363321  9.35083769  8.57135957\n",
      "  8.23839105  7.44624854  6.04124865  5.44103026]\n",
      "[40.21485329 25.27922629 19.71381648 14.48358737 13.48588523 16.58891951\n",
      " 17.88966184 14.56381561 12.46334059 10.6776952   9.41726967  8.64687776\n",
      "  8.33099297  7.54898916  6.12810154  5.51947415]\n",
      "=============== U500 =================\n",
      "11.93343125267079\n",
      "11.983191089137282\n",
      "=============== V =================\n",
      "[14.12412012 10.70084445  8.34228621  6.90249197  7.41823295 10.12232381\n",
      " 13.38079184 11.36900617  9.57934538  8.09621879  7.08934928  6.53337538\n",
      "  6.70697153  6.52715225  5.21487898  4.65894061]\n",
      "[14.10785166 10.69972115  8.34700692  6.91838006  7.45253687 10.17627158\n",
      " 13.45741855 11.4414309   9.64035721  8.15036388  7.14415171  6.5955258\n",
      "  6.78472338  6.61929494  5.2975703   4.73462807]\n",
      "=============== V500 =================\n",
      "9.14178166998031\n",
      "9.180869185138992\n",
      "=============== Z500 =================\n",
      "3362.276726822815\n",
      "3354.02515765491\n",
      "=============== t2m =================\n",
      "21.382492356035307\n",
      "21.234846578163697\n",
      "=============== tsi =================\n",
      "7716315.96665566\n",
      "7711902.973059106\n"
     ]
    }
   ],
   "source": [
    "# ------------------------------------------------------- #\n",
    "# Compare with my old ones\n",
    "STD_conserve = xr.open_dataset(base_dir+'mean_std/std_6h_1979_2018_1deg.nc')\n",
    "STD_bilinear = xr.open_dataset('/glade/derecho/scratch/ksha/CREDIT_data/std_6h_1979_2018_16lev_0.25deg.nc')\n",
    "\n",
    "for varname in varnames:\n",
    "    print('=============== {} ================='.format(varname))\n",
    "    print(np.array(STD_conserve[varname]))\n",
    "    print(np.array(STD_bilinear[varname]))"
   ]
  },
  {
   "cell_type": "code",
   "execution_count": null,
   "id": "7e10ecef-f0d4-42f6-b081-aaf443f81a6c",
   "metadata": {},
   "outputs": [],
   "source": []
  }
 ],
 "metadata": {
  "kernelspec": {
   "display_name": "Python 3 (ipykernel)",
   "language": "python",
   "name": "python3"
  },
  "language_info": {
   "codemirror_mode": {
    "name": "ipython",
    "version": 3
   },
   "file_extension": ".py",
   "mimetype": "text/x-python",
   "name": "python",
   "nbconvert_exporter": "python",
   "pygments_lexer": "ipython3",
   "version": "3.11.9"
  }
 },
 "nbformat": 4,
 "nbformat_minor": 5
}

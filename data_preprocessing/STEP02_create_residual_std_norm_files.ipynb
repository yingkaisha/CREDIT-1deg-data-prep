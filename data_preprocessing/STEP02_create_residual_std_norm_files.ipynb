{
 "cells": [
  {
   "cell_type": "markdown",
   "id": "d779c3f3-dd5e-4194-8925-95e37d9660ec",
   "metadata": {},
   "source": [
    "# Create resaidual norm files for CREDIT"
   ]
  },
  {
   "cell_type": "code",
   "execution_count": 1,
   "id": "3e399085-3c08-46c9-8e07-fa7e3e0b63c7",
   "metadata": {},
   "outputs": [],
   "source": [
    "import os\n",
    "import yaml\n",
    "import copy\n",
    "import numpy as np\n",
    "import xarray as xr"
   ]
  },
  {
   "cell_type": "code",
   "execution_count": 2,
   "id": "7ce73a4a-5b8b-4b22-958f-56a7eaa38881",
   "metadata": {},
   "outputs": [],
   "source": [
    "from scipy.stats import gmean"
   ]
  },
  {
   "cell_type": "code",
   "execution_count": 3,
   "id": "6c58f08d-db2c-4606-a52d-93ef9f13bdd9",
   "metadata": {},
   "outputs": [],
   "source": [
    "import matplotlib.pyplot as plt\n",
    "%matplotlib inline"
   ]
  },
  {
   "cell_type": "markdown",
   "id": "2018bd3e-64bd-4953-a58a-06a0cb311c34",
   "metadata": {},
   "source": [
    "## 1 deg residual std"
   ]
  },
  {
   "cell_type": "code",
   "execution_count": 4,
   "id": "94584383-7a21-4e92-95c4-bfa075634cb4",
   "metadata": {},
   "outputs": [],
   "source": [
    "# get variable information from data_preprocessing/config\n",
    "config_name = os.path.realpath('data_config_6h.yml')\n",
    "\n",
    "with open(config_name, 'r') as stream:\n",
    "    conf = yaml.safe_load(stream)"
   ]
  },
  {
   "cell_type": "code",
   "execution_count": 6,
   "id": "c4a98422-53f4-4d28-97eb-0f3d79edc223",
   "metadata": {},
   "outputs": [],
   "source": [
    "base_dir = '/glade/derecho/scratch/ksha/CREDIT_data/ERA5_mlevel_1deg_stage1/'"
   ]
  },
  {
   "cell_type": "code",
   "execution_count": 7,
   "id": "85e56f44-d922-4281-9b19-8c39206c3962",
   "metadata": {},
   "outputs": [],
   "source": [
    "# get variable names\n",
    "varnames = list(conf['residual'].keys())\n",
    "varnames = varnames[:-5] # remove save_loc and others\n",
    "\n",
    "varname_surf = list(set(varnames) - set(['U', 'V', 'T', 'Q']))\n",
    "varname_upper = ['U', 'V', 'T', 'Q']"
   ]
  },
  {
   "cell_type": "code",
   "execution_count": 8,
   "id": "04f18eeb-87da-48c8-85ab-49248d70374d",
   "metadata": {},
   "outputs": [],
   "source": [
    "ds_std = xr.open_dataset(base_dir+'mean_std/std_6h_1979_2018_1deg.nc')\n",
    "ds_residual = xr.open_dataset(base_dir+'mean_std/residual_6h_1979_2018_1deg.nc')\n",
    "ds_residual_norm = ds_std * ds_residual"
   ]
  },
  {
   "cell_type": "code",
   "execution_count": 10,
   "id": "52b440f6-1f28-4508-bf71-98de19bf116e",
   "metadata": {},
   "outputs": [],
   "source": [
    "ds_residual_norm.to_netcdf(base_dir+'mean_std/std_residual_6h_1979_2018_1deg.nc')"
   ]
  },
  {
   "cell_type": "code",
   "execution_count": 11,
   "id": "b5ca5c61-6ea6-4a43-a48f-8f810575b9af",
   "metadata": {},
   "outputs": [
    {
     "name": "stdout",
     "output_type": "stream",
     "text": [
      "=============== Q =================\n",
      "[6.21782499e-07 1.83543886e-07 1.88273074e-07 2.06372363e-07\n",
      " 6.82312189e-07 1.07034923e-05 1.66935815e-04 8.56219304e-04\n",
      " 1.61426594e-03 2.55805456e-03 3.55015533e-03 4.53889445e-03\n",
      " 3.93871343e-03 3.04147699e-03 3.03682866e-03 3.03019983e-03]\n",
      "[6.42704302e-07 1.84908748e-07 1.89545459e-07 2.08828991e-07\n",
      " 6.50541171e-07 9.98583063e-06 1.53233943e-04 8.09986288e-04\n",
      " 1.52399581e-03 2.41789854e-03 3.33837821e-03 4.18941691e-03\n",
      " 3.48063982e-03 2.78836994e-03 2.80477123e-03 2.79601625e-03]\n",
      "=============== Q500 =================\n",
      "0.0017113079668337663\n",
      "0.0016620326845009508\n",
      "=============== SP =================\n",
      "1011.1568076053264\n",
      "1051.393337441245\n",
      "=============== T =================\n",
      "[11.92922548  7.86509374  5.8091386   5.20725476  4.56035505  5.08995555\n",
      "  6.00101565  5.37350895  5.70523869  5.54547105  5.32894455  5.53646002\n",
      "  6.00929127  6.95442776  8.4571371   9.21533742]\n",
      "[12.34457087  7.98324403  5.86438588  5.21934341  4.54049339  5.16469336\n",
      "  6.12800702  5.47824727  5.82001225  5.64756517  5.40547177  5.5615089\n",
      "  5.99276339  6.95394877  8.50613224  9.3150006 ]\n",
      "=============== T500 =================\n",
      "5.668357689312373\n",
      "5.828306354435276\n",
      "=============== U =================\n",
      "[37.50837517 15.65959598 12.12306848 11.06955485 11.40350376 14.06318096\n",
      " 22.18909891 21.02210126 17.4014687  14.49075883 12.99682088 12.65316072\n",
      " 13.48341479 12.89258523 10.27508765  9.15329183]\n",
      "[38.9758456  16.12600287 12.44119788 11.29541299 11.53333646 14.20353393\n",
      " 22.48583263 21.06941112 17.37703332 14.41123122 12.84917599 12.43583374\n",
      " 13.30571369 12.60725897 10.02795671  8.93690631]\n",
      "=============== U500 =================\n",
      "16.24569924629917\n",
      "16.429829691653715\n",
      "=============== V =================\n",
      "[40.89408215 17.44097468 13.5643788  12.23344314 12.56653418 15.94179338\n",
      " 26.58940189 25.03475451 20.57126744 16.850789   14.75387393 14.06960273\n",
      " 15.1866086  14.26665256 11.30278361 10.08848941]\n",
      "[42.62359155 17.89241087 13.87053418 12.45578329 12.73438427 16.21329806\n",
      " 27.23597603 25.50887818 20.90480466 17.05807277 14.85582678 14.0925816\n",
      " 15.24937853 14.17048393 11.1835226   9.98347617]\n",
      "=============== V500 =================\n",
      "19.387385485979774\n",
      "19.87616803227041\n",
      "=============== Z500 =================\n",
      "971.2044036261819\n",
      "1011.9726664865314\n",
      "=============== t2m =================\n",
      "10.53766995341408\n",
      "10.79271623188326\n",
      "=============== tsi =================\n",
      "40420001.45063575\n",
      "42260328.91117825\n"
     ]
    }
   ],
   "source": [
    "# ------------------------------------------------------- #\n",
    "# Compare with my old ones\n",
    "new_residual_std = xr.open_dataset('/glade/campaign/cisl/aiml/ksha/CREDIT/std_residual_6h_1979_2018_16lev_0.25deg.nc')\n",
    "new_std = xr.open_dataset(base_dir+'mean_std/std_residual_6h_1979_2018_1deg.nc')\n",
    "\n",
    "for varname in varnames:\n",
    "    print('=============== {} ================='.format(varname))\n",
    "    print(np.array(new_residual_std[varname]))\n",
    "    print(np.array(new_std[varname]))"
   ]
  },
  {
   "cell_type": "code",
   "execution_count": null,
   "id": "d7eca548-fd8e-4b54-87ef-5abd3437aaa2",
   "metadata": {},
   "outputs": [],
   "source": []
  },
  {
   "cell_type": "markdown",
   "id": "923ebd82-7cca-4c69-ba7c-0ac323e805ef",
   "metadata": {},
   "source": [
    "## CESM grid residual std"
   ]
  },
  {
   "cell_type": "code",
   "execution_count": 4,
   "id": "df1c8cb9-fae7-41d9-96bd-1920f71aa61d",
   "metadata": {},
   "outputs": [],
   "source": [
    "# get variable information from data_preprocessing/config\n",
    "config_name = os.path.realpath('data_config_cesm_6h.yml')\n",
    "\n",
    "with open(config_name, 'r') as stream:\n",
    "    conf = yaml.safe_load(stream)"
   ]
  },
  {
   "cell_type": "code",
   "execution_count": 5,
   "id": "3b270636-2a11-45e4-beed-9fe3f1d0a96f",
   "metadata": {},
   "outputs": [],
   "source": [
    "base_dir = '/glade/derecho/scratch/ksha/CREDIT_data/ERA5_mlevel_cesm_stage1/'"
   ]
  },
  {
   "cell_type": "code",
   "execution_count": 6,
   "id": "2d80834a-de9a-472d-a5af-f1f900fb9050",
   "metadata": {},
   "outputs": [],
   "source": [
    "# get variable names\n",
    "varnames = list(conf['residual'].keys())\n",
    "varnames = varnames[:-5] # remove save_loc and others\n",
    "\n",
    "varname_surf = list(set(varnames) - set(['U', 'V', 'T', 'Q']))\n",
    "varname_upper = ['U', 'V', 'T', 'Q']"
   ]
  },
  {
   "cell_type": "code",
   "execution_count": 8,
   "id": "277aab1d-bf08-4d9f-b689-2312c6a73372",
   "metadata": {},
   "outputs": [],
   "source": [
    "ds_std = xr.open_dataset(base_dir+'mean_std/std_6h_1979_2018_cesm.nc')\n",
    "ds_residual = xr.open_dataset(base_dir+'mean_std/residual_6h_1979_2018_cesm.nc')\n",
    "ds_residual_norm = ds_std * ds_residual"
   ]
  },
  {
   "cell_type": "code",
   "execution_count": 11,
   "id": "380ce54d-1623-44a6-bc81-2d723ca2dd1d",
   "metadata": {},
   "outputs": [],
   "source": [
    "ds_residual_norm.to_netcdf(base_dir+'mean_std/std_residual_6h_1979_2018_cesm.nc')"
   ]
  },
  {
   "cell_type": "code",
   "execution_count": 12,
   "id": "585e6d1b-94f5-4511-ac8b-4c06508b43fa",
   "metadata": {},
   "outputs": [
    {
     "name": "stdout",
     "output_type": "stream",
     "text": [
      "=============== Q =================\n",
      "[6.43616268e-07 1.85462847e-07 1.90178490e-07 2.09366578e-07\n",
      " 6.50504277e-07 9.96323199e-06 1.52612129e-04 8.08001256e-04\n",
      " 1.52043420e-03 2.41267678e-03 3.33091695e-03 4.17859167e-03\n",
      " 3.46644631e-03 2.78079939e-03 2.79846377e-03 2.78988747e-03]\n",
      "[6.42704302e-07 1.84908748e-07 1.89545459e-07 2.08828991e-07\n",
      " 6.50541171e-07 9.98583063e-06 1.53233943e-04 8.09986288e-04\n",
      " 1.52399581e-03 2.41789854e-03 3.33837821e-03 4.18941691e-03\n",
      " 3.48063982e-03 2.78836994e-03 2.80477123e-03 2.79601625e-03]\n",
      "=============== Q500 =================\n",
      "0.0016582892153056699\n",
      "0.0016620326845009508\n",
      "=============== SP =================\n",
      "1051.5504732959837\n",
      "1051.393337441245\n",
      "=============== T =================\n",
      "[12.34605341  7.99022689  5.86877101  5.22042209  4.53781969  5.1638852\n",
      "  6.13025006  5.4801435   5.82173286  5.64895489  5.40694299  5.56324874\n",
      "  5.99632752  6.9563804   8.50821916  9.31663209]\n",
      "[12.34457087  7.98324403  5.86438588  5.21934341  4.54049339  5.16469336\n",
      "  6.12800702  5.47824727  5.82001225  5.64756517  5.40547177  5.5615089\n",
      "  5.99276339  6.95394877  8.50613224  9.3150006 ]\n",
      "=============== T500 =================\n",
      "5.8297509213013\n",
      "5.828306354435276\n",
      "=============== U =================\n",
      "[38.98788714 16.12424789 12.43770183 11.28770026 11.51816994 14.19455315\n",
      " 22.51168679 21.12089909 17.41859196 14.44201473 12.87606984 12.46437462\n",
      " 13.33579477 12.62684005 10.03904512  8.94699605]\n",
      "[38.9758456  16.12600287 12.44119788 11.29541299 11.53333646 14.20353393\n",
      " 22.48583263 21.06941112 17.37703332 14.41123122 12.84917599 12.43583374\n",
      " 13.30571369 12.60725897 10.02795671  8.93690631]\n",
      "=============== U500 =================\n",
      "16.466520653319982\n",
      "16.429829691653715\n",
      "=============== V =================\n",
      "[42.62843177 17.9151737  13.88969129 12.47202566 12.74512152 16.21101001\n",
      " 27.21609506 25.48293036 20.88432863 17.04305505 14.84274111 14.07828817\n",
      " 15.22936622 14.15649296 11.17549377  9.97627673]\n",
      "[42.62359155 17.89241087 13.87053418 12.45578329 12.73438427 16.21329806\n",
      " 27.23597603 25.50887818 20.90480466 17.05807277 14.85582678 14.0925816\n",
      " 15.24937853 14.17048393 11.1835226   9.98347617]\n",
      "=============== V500 =================\n",
      "19.854889269462\n",
      "19.87616803227041\n",
      "=============== Z500 =================\n",
      "1012.0963338069909\n",
      "1011.9726664865314\n",
      "=============== t2m =================\n",
      "10.792981379205463\n",
      "10.79271623188326\n",
      "=============== tsi =================\n",
      "42268389.81136729\n",
      "42260328.91117825\n"
     ]
    }
   ],
   "source": [
    "# ------------------------------------------------------- #\n",
    "# Compare with my old ones\n",
    "base_dir_1deg = '/glade/derecho/scratch/ksha/CREDIT_data/ERA5_mlevel_1deg_stage1/'\n",
    "\n",
    "STD_conserve = xr.open_dataset(base_dir+'mean_std/std_residual_6h_1979_2018_cesm.nc')\n",
    "STD_bilinear = xr.open_dataset(base_dir_1deg+'mean_std/std_residual_6h_1979_2018_1deg.nc')\n",
    "\n",
    "for varname in varnames:\n",
    "    print('=============== {} ================='.format(varname))\n",
    "    print(np.array(STD_conserve[varname]))\n",
    "    print(np.array(STD_bilinear[varname]))"
   ]
  },
  {
   "cell_type": "code",
   "execution_count": null,
   "id": "58988d4b-811d-40bf-b12a-9d3409227b9d",
   "metadata": {},
   "outputs": [],
   "source": []
  }
 ],
 "metadata": {
  "kernelspec": {
   "display_name": "Python 3 (ipykernel)",
   "language": "python",
   "name": "python3"
  },
  "language_info": {
   "codemirror_mode": {
    "name": "ipython",
    "version": 3
   },
   "file_extension": ".py",
   "mimetype": "text/x-python",
   "name": "python",
   "nbconvert_exporter": "python",
   "pygments_lexer": "ipython3",
   "version": "3.11.9"
  }
 },
 "nbformat": 4,
 "nbformat_minor": 5
}

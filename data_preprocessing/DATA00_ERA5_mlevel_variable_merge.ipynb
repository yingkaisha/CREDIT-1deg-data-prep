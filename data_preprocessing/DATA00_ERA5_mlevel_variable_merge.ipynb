{
 "cells": [
  {
   "cell_type": "markdown",
   "id": "db5c9679-6152-4554-a65d-9e86b019aacf",
   "metadata": {},
   "source": [
    "# Merge ERA5 1 deg model level and single level variables"
   ]
  },
  {
   "cell_type": "code",
   "execution_count": 7,
   "id": "7e796944-5444-40bf-b1c0-c1cf9fd777ca",
   "metadata": {},
   "outputs": [],
   "source": [
    "import os\n",
    "import sys\n",
    "import yaml\n",
    "import dask\n",
    "import zarr\n",
    "import numpy as np\n",
    "import xarray as xr\n",
    "import pandas as pd\n",
    "from glob import glob\n",
    "\n",
    "import calendar\n",
    "from datetime import datetime, timedelta\n",
    "from dateutil.relativedelta import relativedelta\n",
    "\n",
    "sys.path.insert(0, os.path.realpath('../libs/'))\n",
    "import verif_utils as vu"
   ]
  },
  {
   "cell_type": "code",
   "execution_count": 8,
   "id": "b5031f84-d284-447e-ac3b-de86f40f8870",
   "metadata": {},
   "outputs": [],
   "source": [
    "base_dir_mlevel = '/glade/derecho/scratch/ksha/CREDIT_data/ERA5_mlevel_1deg/'\n",
    "base_dir_plevel = '/glade/derecho/scratch/ksha/CREDIT_data/ERA5_plevel_1deg/'\n",
    "base_dir_output = '/glade/derecho/scratch/ksha/CREDIT_data/ERA5_mlevel_1deg_stage1/'"
   ]
  },
  {
   "cell_type": "code",
   "execution_count": 9,
   "id": "ab7754b4-6703-404f-9728-d58a17f4987f",
   "metadata": {},
   "outputs": [],
   "source": [
    "fn_fmt_mlevel = base_dir_mlevel + 'upper_air/ERA5_mlevel_1deg_6h_{}_conserve.zarr'\n",
    "fn_fmt_plevel = base_dir_plevel + 'all_in_one/ERA5_plevel_1deg_6h_{}_conserve.zarr'\n",
    "fn_fmt_static = base_dir_plevel + 'static/ERA5_plevel_1deg_6h_conserve_static.zarr'\n",
    "fn_mean_std = '/glade/derecho/scratch/ksha/CREDIT_data/mean_6h_1979_2018_16lev_0.25deg.nc'"
   ]
  },
  {
   "cell_type": "code",
   "execution_count": 10,
   "id": "e50fb39e-5b5e-42e7-98aa-29ce8c77d049",
   "metadata": {},
   "outputs": [],
   "source": [
    "mlevel_inds = [ 10,  30,  40,  50,  60,  70,  80,  90,  95, 100, 105, 110, 120, 130, 136, 137]\n",
    "varnames_mlevel = ['specific_humidity', 'temperature', 'u_component_of_wind', 'v_component_of_wind', 'SP', 'VAR_2T']\n",
    "\n",
    "var_mlevel = {\n",
    "    'specific_humidity': mlevel_inds,\n",
    "    'temperature': mlevel_inds,\n",
    "    'u_component_of_wind': mlevel_inds,\n",
    "    'v_component_of_wind': mlevel_inds\n",
    "}\n",
    "\n",
    "var_plevel = {\n",
    "    'SP': None,\n",
    "    'VAR_2T': None,\n",
    "    'toa_incident_solar_radiation': None,\n",
    "    'U': [500,], \n",
    "    'V': [500,], \n",
    "    'T': [500,], \n",
    "    'Q': [500,],\n",
    "    'Z': [500,]\n",
    "}\n",
    "\n",
    "varnames_500 = ['U', 'V', 'T', 'Q', 'Z']\n",
    "\n",
    "var_rename = {\n",
    "    'U': 'U500',\n",
    "    'V': 'V500',\n",
    "    'T': 'T500',\n",
    "    'Q': 'Q500',\n",
    "    'Z': 'Z500',\n",
    "    'specific_humidity': 'Q',\n",
    "    'temperature': 'T',\n",
    "    'u_component_of_wind': 'U',\n",
    "    'v_component_of_wind': 'V',\n",
    "    'VAR_2T': 't2m',\n",
    "    'toa_incident_solar_radiation': 'tsi'}\n",
    "\n",
    "chunk_size_3d = {\n",
    "    'time': 10,\n",
    "    'latitude': 181,\n",
    "    'longitude': 360\n",
    "}\n",
    "\n",
    "chunk_size_4d = {\n",
    "    'time': 10,\n",
    "    'level': 16,\n",
    "    'latitude': 181,\n",
    "    'longitude': 360\n",
    "}\n",
    "\n",
    "encode_size_3d = dict(\n",
    "    chunks=(\n",
    "        chunk_size_3d['time'],\n",
    "        chunk_size_3d['latitude'],\n",
    "        chunk_size_3d['longitude']\n",
    "    )\n",
    ")\n",
    "\n",
    "encode_size_4d = dict(\n",
    "    chunks=(\n",
    "        chunk_size_4d['time'],\n",
    "        chunk_size_4d['level'],\n",
    "        chunk_size_4d['latitude'],\n",
    "        chunk_size_4d['longitude']\n",
    "    )\n",
    ")"
   ]
  },
  {
   "cell_type": "markdown",
   "id": "774aa6a3-1c87-4f66-9e98-c9a9a792c7c4",
   "metadata": {},
   "source": [
    "### Main routine"
   ]
  },
  {
   "cell_type": "code",
   "execution_count": 7,
   "id": "1c48c91f-6137-45c1-a5dd-380e143848b2",
   "metadata": {},
   "outputs": [],
   "source": [
    "ds_mean_std = xr.open_dataset(fn_mean_std)\n",
    "\n",
    "for year in np.arange(1979, 2024):\n",
    "    print(year)\n",
    "    ds_mlevel = xr.open_zarr(fn_fmt_mlevel.format(year))\n",
    "    ds_plevel = xr.open_zarr(fn_fmt_plevel.format(year))\n",
    "    \n",
    "    ds_mlevel_sub = vu.ds_subset_everything(ds_mlevel, var_mlevel)\n",
    "    ds_plevel_sub = vu.ds_subset_everything(ds_plevel, var_plevel)\n",
    "    for var in varnames_500:\n",
    "        ds_plevel_sub[var] = ds_plevel_sub[var].squeeze(dim=\"level\")\n",
    "    \n",
    "    ds_plevel_sub = ds_plevel_sub.drop_vars(['level',])\n",
    "    ds_merge = xr.merge([ds_mlevel_sub, ds_plevel_sub])\n",
    "    ds_merge = ds_merge.rename(var_rename)\n",
    "    \n",
    "    ds_merge['level'] = ds_mean_std['level']\n",
    "    \n",
    "    varnames = list(ds_merge.keys())\n",
    "    varname_4D = ['Q', 'T', 'U', 'V']\n",
    "    \n",
    "    for i_var, var in enumerate(varnames):\n",
    "        if var in varname_4D:\n",
    "            ds_merge[var] = ds_merge[var].chunk(chunk_size_4d)\n",
    "        else:\n",
    "            ds_merge[var] = ds_merge[var].chunk(chunk_size_3d)\n",
    "    \n",
    "    dict_encoding = {}\n",
    "    \n",
    "    compress = zarr.Blosc(cname='zstd', clevel=1, shuffle=zarr.Blosc.SHUFFLE, blocksize=0)\n",
    "    \n",
    "    for i_var, var in enumerate(varnames):\n",
    "        if var in varname_4D:\n",
    "            dict_encoding[var] = {'compressor': compress, **encode_size_4d}\n",
    "        else:\n",
    "            dict_encoding[var] = {'compressor': compress, **encode_size_3d}\n",
    "    \n",
    "    save_name = base_dir_output + 'all_in_one/ERA5_mlevel_1deg_6h_lev16_{}.zarr'.format(year)\n",
    "    #ds_merge.to_zarr(save_name, mode='w', consolidated=True, compute=True, encoding=dict_encoding)"
   ]
  },
  {
   "cell_type": "markdown",
   "id": "170f8612-1332-4238-ba24-aec4d860ca78",
   "metadata": {},
   "source": [
    "### Static file"
   ]
  },
  {
   "cell_type": "code",
   "execution_count": 12,
   "id": "768bcafa-7002-4522-b28b-0bb426c9346a",
   "metadata": {},
   "outputs": [],
   "source": [
    "var_static = {\n",
    "    'land_sea_mask': None,\n",
    "    'z_norm': None\n",
    "}\n",
    "\n",
    "var_static_rename = {\n",
    "    'land_sea_mask': 'LSM',\n",
    "    'z_norm': 'Z_GDS4_SFC'\n",
    "}\n",
    "\n",
    "\n",
    "chunk_size_2d = {\n",
    "    'latitude': 181,\n",
    "    'longitude': 360\n",
    "}\n",
    "\n",
    "encode_size_2d = dict(\n",
    "    chunks=(\n",
    "        chunk_size_3d['latitude'],\n",
    "        chunk_size_3d['longitude']\n",
    "    )\n",
    ")\n"
   ]
  },
  {
   "cell_type": "code",
   "execution_count": 17,
   "id": "5c7d0bb7-bf5c-4f79-a789-c61685594e70",
   "metadata": {},
   "outputs": [
    {
     "data": {
      "text/plain": [
       "<xarray.backends.zarr.ZarrStore at 0x154e838615b0>"
      ]
     },
     "execution_count": 17,
     "metadata": {},
     "output_type": "execute_result"
    }
   ],
   "source": [
    "ds_static = xr.open_zarr(fn_fmt_static)\n",
    "ds_static = vu.ds_subset_everything(ds_static, var_static)\n",
    "ds_static = ds_static.rename(var_static_rename)\n",
    "\n",
    "varnames = list(ds_static.keys())\n",
    "dict_encoding = {}\n",
    "    \n",
    "compress = zarr.Blosc(cname='zstd', clevel=1, shuffle=zarr.Blosc.SHUFFLE, blocksize=0)\n",
    "    \n",
    "for i_var, var in enumerate(varnames):\n",
    "    dict_encoding[var] = {'compressor': compress, **encode_size_2d}\n",
    "\n",
    "save_name = base_dir_output + 'static/ERA5_mlevel_1deg_static.zarr'\n",
    "# ds_static.to_zarr(save_name, mode='w', consolidated=True, compute=True, encoding=dict_encoding)"
   ]
  },
  {
   "cell_type": "code",
   "execution_count": null,
   "id": "d6d19451-8ce5-4a0c-a353-bb193fcc9a51",
   "metadata": {},
   "outputs": [],
   "source": []
  }
 ],
 "metadata": {
  "kernelspec": {
   "display_name": "Python 3 (ipykernel)",
   "language": "python",
   "name": "python3"
  },
  "language_info": {
   "codemirror_mode": {
    "name": "ipython",
    "version": 3
   },
   "file_extension": ".py",
   "mimetype": "text/x-python",
   "name": "python",
   "nbconvert_exporter": "python",
   "pygments_lexer": "ipython3",
   "version": "3.11.9"
  }
 },
 "nbformat": 4,
 "nbformat_minor": 5
}

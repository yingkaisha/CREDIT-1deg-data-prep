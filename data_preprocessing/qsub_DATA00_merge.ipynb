{
 "cells": [
  {
   "cell_type": "markdown",
   "id": "304505aa-820b-41ea-af52-57a62b6c8655",
   "metadata": {},
   "source": [
    "# Generate qsub scripts for ERA5 data preparation"
   ]
  },
  {
   "cell_type": "code",
   "execution_count": 1,
   "id": "a4e06d0d-df0e-4353-9fc7-dcab383a8d70",
   "metadata": {},
   "outputs": [],
   "source": [
    "import os\n",
    "import sys\n",
    "import yaml\n",
    "import numpy as np\n",
    "import xarray as xr"
   ]
  },
  {
   "cell_type": "code",
   "execution_count": 2,
   "id": "94494a11-1fef-419e-9dfe-4307e9e90634",
   "metadata": {},
   "outputs": [],
   "source": [
    "# sys.path.insert(0, os.path.realpath('../libs/'))\n",
    "# import preprocess_utils as pu"
   ]
  },
  {
   "cell_type": "code",
   "execution_count": 3,
   "id": "b3b407ed-17f4-43fb-a690-efaa88d29794",
   "metadata": {},
   "outputs": [],
   "source": [
    "conf = {\n",
    "    'qsub': {\n",
    "        'qsub_loc': '/glade/u/home/ksha/CREDIT-1deg-data-prep/qsub/',\n",
    "        'scripts_loc': '/glade/u/home/ksha/CREDIT-1deg-data-prep/data_preprocessing/scripts/'\n",
    "    }\n",
    "}"
   ]
  },
  {
   "cell_type": "code",
   "execution_count": 4,
   "id": "56b6937e-d466-4011-acb1-77acc61858e8",
   "metadata": {},
   "outputs": [],
   "source": [
    "years = np.arange(1979, 2024)"
   ]
  },
  {
   "cell_type": "markdown",
   "id": "bcd4e683-e0b1-4c8e-b4dc-608c93bd697c",
   "metadata": {},
   "source": [
    "## 1 deg merge"
   ]
  },
  {
   "cell_type": "code",
   "execution_count": 9,
   "id": "b345646e-9986-48f6-a376-829e0a49870f",
   "metadata": {},
   "outputs": [],
   "source": [
    "for i_year, year in enumerate(years):\n",
    "    \n",
    "    f = open('{}ERA5_PP_1deg_6h_{}.sh'.format(conf['qsub']['qsub_loc'], year), 'w') \n",
    "    \n",
    "    heads = '''#!/bin/bash -l\n",
    "\n",
    "#PBS -N {}\n",
    "#PBS -A NAML0001\n",
    "#PBS -l walltime=23:59:59\n",
    "#PBS -l select=1:ncpus=8:mem=64GB\n",
    "#PBS -q casper\n",
    "#PBS -o {}.log\n",
    "#PBS -e {}.err\n",
    "\n",
    "conda activate credit\n",
    "cd {}\n",
    "python ERA5_1deg_merge.py {}\n",
    "'''.format(year, year, year, \n",
    "           conf['qsub']['scripts_loc'], \n",
    "           year)\n",
    "    \n",
    "    print(heads, file=f)    \n",
    "    f.close()\n",
    "\n",
    "f = open('{}batch_ERA5_PP_1deg_6h.sh'.format(conf['qsub']['qsub_loc']), 'w')\n",
    "for i_year, year in enumerate(years):\n",
    "    print('qsub ERA5_PP_1deg_6h_{}.sh'.format(year), file=f)\n",
    "f.close()"
   ]
  },
  {
   "cell_type": "markdown",
   "id": "3bc50d7f-fbe0-40c2-9435-29655fdd0628",
   "metadata": {},
   "source": [
    "## CESM grid merge"
   ]
  },
  {
   "cell_type": "code",
   "execution_count": 5,
   "id": "1276aa63-47d4-47d8-99db-e9cb7796ec39",
   "metadata": {},
   "outputs": [],
   "source": [
    "for i_year, year in enumerate(years):\n",
    "    \n",
    "    f = open('{}ERA5_PP_1deg_6h_{}.sh'.format(conf['qsub']['qsub_loc'], year), 'w') \n",
    "    \n",
    "    heads = '''#!/bin/bash -l\n",
    "\n",
    "#PBS -N {}\n",
    "#PBS -A NAML0001\n",
    "#PBS -l walltime=23:59:59\n",
    "#PBS -l select=1:ncpus=8:mem=64GB\n",
    "#PBS -q casper\n",
    "#PBS -o {}.log\n",
    "#PBS -e {}.err\n",
    "\n",
    "conda activate credit\n",
    "cd {}\n",
    "python ERA5_cesm_merge.py {}\n",
    "'''.format(year, year, year, \n",
    "           conf['qsub']['scripts_loc'], \n",
    "           year)\n",
    "    \n",
    "    print(heads, file=f)    \n",
    "    f.close()\n",
    "\n",
    "f = open('{}batch_ERA5_PP_1deg_6h.sh'.format(conf['qsub']['qsub_loc']), 'w')\n",
    "for i_year, year in enumerate(years):\n",
    "    print('qsub ERA5_PP_1deg_6h_{}.sh'.format(year), file=f)\n",
    "f.close()"
   ]
  },
  {
   "cell_type": "code",
   "execution_count": null,
   "id": "55ba8bc8-99ca-4a90-8881-3657220d8676",
   "metadata": {},
   "outputs": [],
   "source": []
  },
  {
   "cell_type": "code",
   "execution_count": null,
   "id": "391e30a4-759e-4190-a237-d33d9361a06f",
   "metadata": {},
   "outputs": [],
   "source": []
  }
 ],
 "metadata": {
  "kernelspec": {
   "display_name": "Python 3 (ipykernel)",
   "language": "python",
   "name": "python3"
  },
  "language_info": {
   "codemirror_mode": {
    "name": "ipython",
    "version": 3
   },
   "file_extension": ".py",
   "mimetype": "text/x-python",
   "name": "python",
   "nbconvert_exporter": "python",
   "pygments_lexer": "ipython3",
   "version": "3.11.9"
  }
 },
 "nbformat": 4,
 "nbformat_minor": 5
}

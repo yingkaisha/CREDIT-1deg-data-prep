{
 "cells": [
  {
   "cell_type": "markdown",
   "id": "d779c3f3-dd5e-4194-8925-95e37d9660ec",
   "metadata": {},
   "source": [
    "# Create resaidual norm files for CREDIT"
   ]
  },
  {
   "cell_type": "code",
   "execution_count": 1,
   "id": "3e399085-3c08-46c9-8e07-fa7e3e0b63c7",
   "metadata": {},
   "outputs": [],
   "source": [
    "import os\n",
    "import yaml\n",
    "import copy\n",
    "import numpy as np\n",
    "import xarray as xr"
   ]
  },
  {
   "cell_type": "code",
   "execution_count": 2,
   "id": "7ce73a4a-5b8b-4b22-958f-56a7eaa38881",
   "metadata": {},
   "outputs": [],
   "source": [
    "from scipy.stats import gmean"
   ]
  },
  {
   "cell_type": "code",
   "execution_count": 3,
   "id": "6c58f08d-db2c-4606-a52d-93ef9f13bdd9",
   "metadata": {},
   "outputs": [],
   "source": [
    "import matplotlib.pyplot as plt\n",
    "%matplotlib inline"
   ]
  },
  {
   "cell_type": "markdown",
   "id": "2018bd3e-64bd-4953-a58a-06a0cb311c34",
   "metadata": {},
   "source": [
    "## File creation"
   ]
  },
  {
   "cell_type": "markdown",
   "id": "e21cdcff-6ae7-4a36-a68e-9b304dea5a52",
   "metadata": {},
   "source": [
    "### 6 hourly residual coeff"
   ]
  },
  {
   "cell_type": "code",
   "execution_count": 4,
   "id": "94584383-7a21-4e92-95c4-bfa075634cb4",
   "metadata": {},
   "outputs": [],
   "source": [
    "# get variable information from data_preprocessing/config\n",
    "config_name = os.path.realpath('data_config_6h.yml')\n",
    "\n",
    "with open(config_name, 'r') as stream:\n",
    "    conf = yaml.safe_load(stream)"
   ]
  },
  {
   "cell_type": "code",
   "execution_count": 11,
   "id": "a4f6a53b-6efe-478e-a35d-2e1479e6d4e2",
   "metadata": {},
   "outputs": [],
   "source": [
    "N_levels = 16\n",
    "base_dir = '/glade/derecho/scratch/ksha/CREDIT_data/ERA5_mlevel_1deg_stage1/'"
   ]
  },
  {
   "cell_type": "code",
   "execution_count": 6,
   "id": "4dafceb5-1621-4622-a78d-078dfdd94cef",
   "metadata": {},
   "outputs": [],
   "source": [
    "# get variable names\n",
    "varnames = list(conf['residual'].keys())\n",
    "varnames = varnames[:-5] # remove save_loc and others\n",
    "\n",
    "varname_surf = list(set(varnames) - set(['U', 'V', 'T', 'Q']))\n",
    "varname_upper = ['U', 'V', 'T', 'Q']\n",
    "\n",
    "# collect computed mean and variance values\n",
    "# See \"qsub_STEP01_compute_mean_std.ipynb\"\n",
    "MEAN_values = {}\n",
    "STD_values = {}\n",
    "\n",
    "for varname in varname_surf:\n",
    "    save_name = conf['residual']['save_loc'] + '{}_mean_std_{}.npy'.format(conf['residual']['prefix'], varname)\n",
    "    mean_std = np.load(save_name)\n",
    "    MEAN_values[varname] = mean_std[0]\n",
    "    STD_values[varname] = mean_std[1]\n",
    "\n",
    "for varname in varname_upper:\n",
    "\n",
    "    # -------------------------------------------- #\n",
    "    # allocate all levels\n",
    "    mean_std_all_levels = np.empty((2, N_levels))\n",
    "    mean_std_all_levels[...] = np.nan\n",
    "    \n",
    "    for i_level in range(N_levels):\n",
    "        save_name = conf['residual']['save_loc'] + '{}_level{}_mean_std_{}.npy'.format(\n",
    "            conf['residual']['prefix'], i_level, varname)\n",
    "        mean_std = np.load(save_name)\n",
    "        mean_std_all_levels[:, i_level] = mean_std\n",
    "\n",
    "    # -------------------------------------------- #\n",
    "    # save\n",
    "    MEAN_values[varname] = np.copy(mean_std_all_levels[0, :])\n",
    "    STD_values[varname] = np.copy(mean_std_all_levels[1, :])"
   ]
  },
  {
   "cell_type": "code",
   "execution_count": 7,
   "id": "6b9660fc-e33e-45e4-a97c-8fb2ef4d31ce",
   "metadata": {},
   "outputs": [],
   "source": [
    "std_val_all = list(STD_values.values())\n",
    "std_val_surf = np.array(std_val_all[:len(varname_surf)])\n",
    "std_val_upper = std_val_all[len(varname_surf):]"
   ]
  },
  {
   "cell_type": "code",
   "execution_count": 9,
   "id": "42445e40-5034-442a-a41f-b85aa895b631",
   "metadata": {},
   "outputs": [],
   "source": [
    "std_concat = np.concatenate([std_val_surf]+ std_val_upper)\n",
    "std_g = gmean(np.sqrt(std_concat))"
   ]
  },
  {
   "cell_type": "code",
   "execution_count": 12,
   "id": "1d242698-e451-44d2-9c2d-c94b74424373",
   "metadata": {},
   "outputs": [],
   "source": [
    "ds_example = xr.open_zarr(base_dir+'all_in_one/ERA5_mlevel_1deg_6h_lev16_1979.zarr')"
   ]
  },
  {
   "cell_type": "code",
   "execution_count": 13,
   "id": "9bc71d2d-f5f6-4f56-99c4-30f67ffc04d4",
   "metadata": {},
   "outputs": [],
   "source": [
    "# ------------------------------------------------------- #\n",
    "# create xr.DataArray for std\n",
    "# Initialize level coord\n",
    "level = np.array(ds_example['level'])\n",
    "\n",
    "ds_std_6h = xr.Dataset(coords={\"level\": level})\n",
    "\n",
    "for varname, data in STD_values.items():\n",
    "    data = np.sqrt(data) / std_g # <--- var to std and divided by std_g\n",
    "    if len(data.shape) == 1:\n",
    "        data_array = xr.DataArray(\n",
    "            data,\n",
    "            dims=[\"level\",],\n",
    "            coords={\"level\": level},\n",
    "            name=varname,\n",
    "        )\n",
    "        ds_std_6h[varname] = data_array\n",
    "    else:\n",
    "        data_array = xr.DataArray(\n",
    "            data,\n",
    "            name=varname,\n",
    "        )\n",
    "        ds_std_6h[varname] = data_array"
   ]
  },
  {
   "cell_type": "code",
   "execution_count": 14,
   "id": "52b440f6-1f28-4508-bf71-98de19bf116e",
   "metadata": {},
   "outputs": [],
   "source": [
    "ds_std_6h.to_netcdf(base_dir+'mean_std/residual_6h_1979_2018_1deg.nc')"
   ]
  },
  {
   "cell_type": "code",
   "execution_count": 15,
   "id": "519a3a4e-f048-4fea-8784-9c5446b06832",
   "metadata": {},
   "outputs": [
    {
     "name": "stdout",
     "output_type": "stream",
     "text": [
      "=============== Q =================\n",
      "[2.22877341 0.53753047 0.62650154 0.56019855 1.15624953 1.5771914\n",
      " 1.78807265 1.68954145 1.61768614 1.480396   1.41090533 1.27505268\n",
      " 0.71039864 0.47997947 0.47196743 0.46551926]\n",
      "[2.16997428 0.53433262 0.62570473 0.55720494 1.20616546 1.67091602\n",
      " 1.91372493 1.75973037 1.68885545 1.54658143 1.48259999 1.36626287\n",
      " 0.80051818 0.5225825  0.51008686 0.50359098]\n",
      "=============== Q500 =================\n",
      "1.5569376753269437\n",
      "1.58681366782801\n",
      "=============== SP =================\n",
      "0.10954554882597509\n",
      "0.10572432808125728\n",
      "=============== T =================\n",
      "[1.48663303 0.63306474 0.54263562 0.49398754 0.35977363 0.63002081\n",
      " 0.67261589 0.40241168 0.40389084 0.38125369 0.35218385 0.35031988\n",
      " 0.35146155 0.36032256 0.40865243 0.44163144]\n",
      "[1.44029965 0.62705213 0.54127914 0.49537273 0.36188953 0.6233748\n",
      " 0.6603371  0.39599639 0.39746314 0.37602801 0.34882406 0.35038579\n",
      " 0.35424132 0.36267483 0.40894171 0.43969869]\n",
      "=============== T500 =================\n",
      "0.4449076539389654\n",
      "0.43393328129223074\n",
      "=============== U =================\n",
      "[0.97168118 0.63959321 0.63282095 0.78192577 0.85711048 0.85819257\n",
      " 1.26184492 1.45473614 1.40217659 1.35780377 1.37412031 1.45085895\n",
      " 1.61508644 1.69310209 1.65991458 1.64250259]\n",
      "[0.93269954 0.619465   0.61495289 0.76428267 0.84558808 0.84774545\n",
      " 1.24033082 1.44344737 1.39621224 1.3571055  1.38010499 1.46332134\n",
      " 1.61846431 1.70785584 1.67671629 1.65836302]\n",
      "=============== U500 =================\n",
      "1.376790073515243\n",
      "1.3557072674094164\n",
      "=============== V =================\n",
      "[3.01778739 1.67205597 1.66267781 1.80453427 1.71663311 1.60173675\n",
      " 2.03545323 2.24372103 2.18227904 2.10691845 2.09551345 2.15701391\n",
      " 2.27366084 2.17100558 2.14454116 2.14286401]\n",
      "[2.89867537 1.63004011 1.62505901 1.76825254 1.68620892 1.56656525\n",
      " 1.97581741 2.18807898 2.13386983 2.06748916 2.06516806 2.13320411\n",
      " 2.23835339 2.15531302 2.13357879 2.13078815]\n",
      "=============== V500 =================\n",
      "2.1742116307086583\n",
      "2.111715687808949\n",
      "=============== Z500 =================\n",
      "0.3009783990750801\n",
      "0.28956383985659645\n",
      "=============== t2m =================\n",
      "0.5047454736415218\n",
      "0.4962442235984986\n",
      "=============== tsi =================\n",
      "5.476749409147687\n",
      "5.241248702407134\n"
     ]
    }
   ],
   "source": [
    "# ------------------------------------------------------- #\n",
    "# Compare with my old ones\n",
    "new_std = xr.open_dataset(base_dir+'mean_std/residual_6h_1979_2018_1deg.nc')\n",
    "old_std = xr.open_dataset('/glade/campaign/cisl/aiml/ksha/CREDIT/residual_6h_1979_2018_16lev_0.25deg.nc')\n",
    "\n",
    "for varname in varnames:\n",
    "    print('=============== {} ================='.format(varname))\n",
    "    print(np.array(new_std[varname]))\n",
    "    print(np.array(old_std[varname]))"
   ]
  },
  {
   "cell_type": "code",
   "execution_count": null,
   "id": "772652bc-f21c-453f-adcf-996305856ba6",
   "metadata": {},
   "outputs": [],
   "source": []
  }
 ],
 "metadata": {
  "kernelspec": {
   "display_name": "Python 3 (ipykernel)",
   "language": "python",
   "name": "python3"
  },
  "language_info": {
   "codemirror_mode": {
    "name": "ipython",
    "version": 3
   },
   "file_extension": ".py",
   "mimetype": "text/x-python",
   "name": "python",
   "nbconvert_exporter": "python",
   "pygments_lexer": "ipython3",
   "version": "3.11.9"
  }
 },
 "nbformat": 4,
 "nbformat_minor": 5
}

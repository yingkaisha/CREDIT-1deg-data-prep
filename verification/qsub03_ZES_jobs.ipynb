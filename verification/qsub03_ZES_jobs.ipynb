{
 "cells": [
  {
   "cell_type": "markdown",
   "id": "3cec30bf-f012-4486-b13a-284f8a87163b",
   "metadata": {},
   "source": [
    "# Generate qsub scripts"
   ]
  },
  {
   "cell_type": "code",
   "execution_count": 1,
   "id": "5dbcd2b8-5b08-4256-bb8d-ebbc0643a9d7",
   "metadata": {},
   "outputs": [],
   "source": [
    "import os\n",
    "import yaml\n",
    "import numpy as np"
   ]
  },
  {
   "cell_type": "code",
   "execution_count": 3,
   "id": "80643553-d821-4ae1-b183-cbeb02010060",
   "metadata": {},
   "outputs": [],
   "source": [
    "config_name = os.path.realpath('verif_config.yml')\n",
    "\n",
    "with open(config_name, 'r') as stream:\n",
    "    conf = yaml.safe_load(stream)"
   ]
  },
  {
   "cell_type": "markdown",
   "id": "91d66d5e-4813-4102-8068-2344dd4cad32",
   "metadata": {},
   "source": [
    "## ZES (6 hourly)"
   ]
  },
  {
   "cell_type": "code",
   "execution_count": 4,
   "id": "dfba742e-29be-4543-9de7-476534e42999",
   "metadata": {},
   "outputs": [],
   "source": [
    "IND_max = 1462\n",
    "INDs = np.arange(0, IND_max+50, 50)\n",
    "INDs[-1] = IND_max"
   ]
  },
  {
   "cell_type": "markdown",
   "id": "cfc860ac-f0f8-420f-ab6f-401acda02fde",
   "metadata": {},
   "source": [
    "### Your model"
   ]
  },
  {
   "cell_type": "code",
   "execution_count": 8,
   "id": "611ce450-3e6e-43e8-a61b-0c9a3446fb85",
   "metadata": {},
   "outputs": [],
   "source": [
    "for i, ind_start in enumerate(INDs[:-1]):\n",
    "    \n",
    "    ind_end = INDs[i+1]\n",
    "    \n",
    "    f = open('{}verif_ZES_fcst_{:03d}.sh'.format(conf['qsub']['qsub_loc'], i), 'w') \n",
    "    \n",
    "    heads = '''#!/bin/bash -l\n",
    "\n",
    "#PBS -N ZES_fcst\n",
    "#PBS -A NAML0001\n",
    "#PBS -l walltime=23:59:59\n",
    "#PBS -l select=1:ncpus=4:mem=16GB\n",
    "#PBS -q casper\n",
    "#PBS -o verif_ZES_fcst.log\n",
    "#PBS -e verif_ZES_fcst.err\n",
    "\n",
    "conda activate credit\n",
    "cd {}\n",
    "python STEP07_ZES_forecast.py {} {}\n",
    "'''.format(conf['qsub']['scripts_loc'], ind_start, ind_end, ind_start, ind_end)\n",
    "    \n",
    "    print(heads, file=f)    \n",
    "    f.close()\n",
    "\n",
    "f = open('{}step07_ZES_fcst_all.sh'.format(conf['qsub']['qsub_loc']), 'w')\n",
    "\n",
    "for i, ind_start in enumerate(INDs[:-1]):\n",
    "    print('qsub verif_ZES_fcst_{:03d}.sh'.format(i), file=f)\n",
    "    \n",
    "f.close()"
   ]
  },
  {
   "cell_type": "markdown",
   "id": "211e634d-782c-4961-887b-7115995ae53d",
   "metadata": {},
   "source": [
    "### IFS"
   ]
  },
  {
   "cell_type": "code",
   "execution_count": 10,
   "id": "fac18900-402a-4d62-b676-54af2df1bf46",
   "metadata": {},
   "outputs": [],
   "source": [
    "for i, ind_start in enumerate(INDs[:-1]):\n",
    "    \n",
    "    ind_end = INDs[i+1]\n",
    "    \n",
    "    f = open('{}verif_ZES_IFS_{:03d}.sh'.format(conf['qsub']['qsub_loc'], i), 'w') \n",
    "    \n",
    "    heads = '''#!/bin/bash -l\n",
    "\n",
    "#PBS -N ZES_IFS\n",
    "#PBS -A NAML0001\n",
    "#PBS -l walltime=23:59:59\n",
    "#PBS -l select=1:ncpus=4:mem=16GB\n",
    "#PBS -q casper\n",
    "#PBS -o verif_ZES_IFS.log\n",
    "#PBS -e verif_ZES_IFS.err\n",
    "\n",
    "conda activate credit\n",
    "cd {}\n",
    "python STEP07_ZES_IFS.py {} {}\n",
    "'''.format(conf['qsub']['scripts_loc'], ind_start, ind_end, ind_start, ind_end)\n",
    "    \n",
    "    print(heads, file=f)    \n",
    "    f.close()\n",
    "\n",
    "f = open('{}step07_ZES_IFS_all.sh'.format(conf['qsub']['qsub_loc']), 'w')\n",
    "\n",
    "for i, ind_start in enumerate(INDs[:-1]):\n",
    "    print('qsub verif_ZES_IFS_{:03d}.sh'.format(i), file=f)\n",
    "    \n",
    "f.close()"
   ]
  },
  {
   "cell_type": "code",
   "execution_count": null,
   "id": "c963f0d3-39a9-497b-916e-87509562ab87",
   "metadata": {},
   "outputs": [],
   "source": []
  }
 ],
 "metadata": {
  "kernelspec": {
   "display_name": "Python 3 (ipykernel)",
   "language": "python",
   "name": "python3"
  },
  "language_info": {
   "codemirror_mode": {
    "name": "ipython",
    "version": 3
   },
   "file_extension": ".py",
   "mimetype": "text/x-python",
   "name": "python",
   "nbconvert_exporter": "python",
   "pygments_lexer": "ipython3",
   "version": "3.11.9"
  }
 },
 "nbformat": 4,
 "nbformat_minor": 5
}

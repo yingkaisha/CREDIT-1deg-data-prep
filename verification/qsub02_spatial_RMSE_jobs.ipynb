{
 "cells": [
  {
   "cell_type": "markdown",
   "id": "3cec30bf-f012-4486-b13a-284f8a87163b",
   "metadata": {},
   "source": [
    "# Generate qsub scripts"
   ]
  },
  {
   "cell_type": "code",
   "execution_count": 1,
   "id": "5dbcd2b8-5b08-4256-bb8d-ebbc0643a9d7",
   "metadata": {},
   "outputs": [],
   "source": [
    "import os\n",
    "import yaml\n",
    "import numpy as np"
   ]
  },
  {
   "cell_type": "code",
   "execution_count": 2,
   "id": "80643553-d821-4ae1-b183-cbeb02010060",
   "metadata": {},
   "outputs": [],
   "source": [
    "config_name = os.path.realpath('verif_config.yml')\n",
    "\n",
    "with open(config_name, 'r') as stream:\n",
    "    conf = yaml.safe_load(stream)"
   ]
  },
  {
   "cell_type": "markdown",
   "id": "91d66d5e-4813-4102-8068-2344dd4cad32",
   "metadata": {},
   "source": [
    "## RMSE (6 hourly)"
   ]
  },
  {
   "cell_type": "code",
   "execution_count": 3,
   "id": "dfba742e-29be-4543-9de7-476534e42999",
   "metadata": {},
   "outputs": [],
   "source": [
    "IND_max = 1462\n",
    "INDs = np.arange(0, IND_max+50, 50)\n",
    "INDs[-1] = IND_max"
   ]
  },
  {
   "cell_type": "markdown",
   "id": "c26ed2be-99f8-46e9-b393-022c0e8940c5",
   "metadata": {},
   "source": [
    "### Your model"
   ]
  },
  {
   "cell_type": "code",
   "execution_count": 7,
   "id": "05cfeb82-6837-44ad-bb8f-c3d7fc6905e3",
   "metadata": {},
   "outputs": [],
   "source": [
    "for i, ind_start in enumerate(INDs[:-1]):\n",
    "    \n",
    "    ind_end = INDs[i+1]\n",
    "    \n",
    "    f = open('{}verif_spatial_fcst_{:03d}.sh'.format(conf['qsub']['qsub_loc'], i), 'w') \n",
    "    \n",
    "    heads = '''#!/bin/bash -l\n",
    "\n",
    "#PBS -N spatial_fcst\n",
    "#PBS -A NAML0001\n",
    "#PBS -l walltime=23:59:59\n",
    "#PBS -l select=1:ncpus=4:mem=16GB\n",
    "#PBS -q casper\n",
    "#PBS -o verif_spatial_fcst.log\n",
    "#PBS -e verif_spatial_fcst.err\n",
    "\n",
    "conda activate credit\n",
    "cd {}\n",
    "python STEP03_RMSE_spatial_forecast.py {} {}\n",
    "'''.format(conf['qsub']['scripts_loc'], ind_start, ind_end, ind_start, ind_end)\n",
    "    \n",
    "    print(heads, file=f)    \n",
    "    f.close()\n",
    "\n",
    "f = open('{}step03_spatial_fcst_all.sh'.format(conf['qsub']['qsub_loc']), 'w')\n",
    "\n",
    "for i, ind_start in enumerate(INDs[:-1]):\n",
    "    print('qsub verif_spatial_fcst_{:03d}.sh'.format(i), file=f)\n",
    "    \n",
    "f.close()"
   ]
  },
  {
   "cell_type": "markdown",
   "id": "ec596b49-e907-4b9e-ab2b-b84c24b2a2c8",
   "metadata": {},
   "source": [
    "### IFS"
   ]
  },
  {
   "cell_type": "code",
   "execution_count": 5,
   "id": "038931b8-17ab-428d-8a7b-95c3707e08f7",
   "metadata": {},
   "outputs": [],
   "source": [
    "for i, ind_start in enumerate(INDs[:-1]):\n",
    "    \n",
    "    ind_end = INDs[i+1]\n",
    "    \n",
    "    f = open('{}verif_spatial_IFS_{:03d}.sh'.format(conf['qsub']['qsub_loc'], i), 'w') \n",
    "    \n",
    "    heads = '''#!/bin/bash -l\n",
    "\n",
    "#PBS -N spatial_IFS\n",
    "#PBS -A NAML0001\n",
    "#PBS -l walltime=23:59:59\n",
    "#PBS -l select=1:ncpus=4:mem=16GB\n",
    "#PBS -q casper\n",
    "#PBS -o verif_spatial_IFS.log\n",
    "#PBS -e verif_spatial_IFS.err\n",
    "\n",
    "conda activate credit\n",
    "cd {}\n",
    "python STEP03_RMSE_spatial_IFS.py {} {}\n",
    "'''.format(conf['qsub']['scripts_loc'], ind_start, ind_end, ind_start, ind_end)\n",
    "    \n",
    "    print(heads, file=f)    \n",
    "    f.close()\n",
    "\n",
    "f = open('{}step03_spatial_IFS_all.sh'.format(conf['qsub']['qsub_loc']), 'w')\n",
    "\n",
    "for i, ind_start in enumerate(INDs[:-1]):\n",
    "    print('qsub verif_spatial_IFS_{:03d}.sh'.format(i), file=f)\n",
    "    \n",
    "f.close()"
   ]
  },
  {
   "cell_type": "code",
   "execution_count": null,
   "id": "1f3a105f-8646-4238-b866-591ae0831cb7",
   "metadata": {},
   "outputs": [],
   "source": []
  }
 ],
 "metadata": {
  "kernelspec": {
   "display_name": "Python 3 (ipykernel)",
   "language": "python",
   "name": "python3"
  },
  "language_info": {
   "codemirror_mode": {
    "name": "ipython",
    "version": 3
   },
   "file_extension": ".py",
   "mimetype": "text/x-python",
   "name": "python",
   "nbconvert_exporter": "python",
   "pygments_lexer": "ipython3",
   "version": "3.11.9"
  }
 },
 "nbformat": 4,
 "nbformat_minor": 5
}
